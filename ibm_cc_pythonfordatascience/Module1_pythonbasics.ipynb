{
 "nbformat": 4,
 "nbformat_minor": 2,
 "metadata": {
  "language_info": {
   "name": "python",
   "codemirror_mode": {
    "name": "ipython",
    "version": 3
   },
   "version": "3.7.4-final"
  },
  "orig_nbformat": 2,
  "file_extension": ".py",
  "mimetype": "text/x-python",
  "name": "python",
  "npconvert_exporter": "python",
  "pygments_lexer": "ipython3",
  "version": 3,
  "kernelspec": {
   "name": "python37464bitbaseconda63c7f78577814660bf1de8f2cef57ed3",
   "display_name": "Python 3.7.4 64-bit ('base': conda)"
  }
 },
 "cells": [
  {
   "cell_type": "markdown",
   "metadata": {},
   "source": [
    "# Module 1"
   ]
  },
  {
   "cell_type": "code",
   "execution_count": 1,
   "metadata": {},
   "outputs": [
    {
     "output_type": "stream",
     "name": "stdout",
     "text": "Hello python 101\n"
    }
   ],
   "source": [
    "# print Hello Python 101\n",
    "print(\"Hello python 101\")"
   ]
  },
  {
   "cell_type": "markdown",
   "metadata": {},
   "source": [
    "## python data types\n",
    "Type is how python or a language represents data.\n",
    "\n",
    "type can be checked using `type` command. Common types are `int`, `float` and `str` \n",
    "\n",
    "type can be used using the same keywords like:   \n",
    "`float(2): 2.0`   \n",
    "`int(1.1): 1`   \n",
    "`int('1'): 1`   \n",
    "`int('A'): error`   \n",
    "`str(2): \"2\"`\n",
    "\n",
    "Remember `True` and `False` are *booleans* and that first letter is capital.\n",
    "\n",
    "`int(True)` gives 1\n",
    "and `bool(1)` gives 0. Same is true for 0/false."
   ]
  },
  {
   "cell_type": "code",
   "execution_count": 2,
   "metadata": {},
   "outputs": [
    {
     "output_type": "stream",
     "name": "stdout",
     "text": "<class 'float'>\n<class 'str'>\n1\nFalse\n"
    }
   ],
   "source": [
    "print(type(3.4))\n",
    "print(type(\"2\"))\n",
    "print(int(True))\n",
    "print(bool(0))"
   ]
  },
  {
   "cell_type": "markdown",
   "metadata": {},
   "source": [
    "## String Operations"
   ]
  },
  {
   "cell_type": "code",
   "execution_count": 9,
   "metadata": {},
   "outputs": [
    {
     "output_type": "stream",
     "name": "stdout",
     "text": "u\ne\ne\nH\nHi d\nHi d\nH \ndude\n"
    }
   ],
   "source": [
    "# string slicing\n",
    "x = \"Hi dude\"\n",
    "print(x[4])\n",
    "print(x[6])\n",
    "print(x[-1])\n",
    "print(x[0])\n",
    "print(x[0:4])\n",
    "print(x[:4])\n",
    "print(x[0:4:2])\n",
    "print(x[3:])"
   ]
  },
  {
   "cell_type": "code",
   "execution_count": 16,
   "metadata": {},
   "outputs": [
    {
     "output_type": "stream",
     "name": "stdout",
     "text": "hi five\nhihihi\n"
    }
   ],
   "source": [
    "y = \" five\"\n",
    "x = \"hi\"\n",
    "print(x+y)\n",
    "print(x*3)"
   ]
  },
  {
   "cell_type": "markdown",
   "metadata": {},
   "source": [
    "use `\\\\` to get `\\` in print statements\n",
    "or use `print(r\"text\")`   \n",
    "This r stands for raw - Gordon Ramsay"
   ]
  },
  {
   "cell_type": "code",
   "execution_count": 14,
   "metadata": {},
   "outputs": [
    {
     "output_type": "stream",
     "name": "stdout",
     "text": "hi \\yo\nhi \n yo\nhi \\n yo\n"
    }
   ],
   "source": [
    "print(\" hi \\yo\")\n",
    "print(\"hi \\n yo\")\n",
    "print(r\"hi \\n yo\")"
   ]
  },
  {
   "cell_type": "markdown",
   "metadata": {},
   "source": [
    "# string methods"
   ]
  },
  {
   "cell_type": "code",
   "execution_count": 21,
   "metadata": {},
   "outputs": [
    {
     "output_type": "stream",
     "name": "stdout",
     "text": "Hi my name is John Doe\nHI MY NAME IS JOHN DOE\nHi my name is Janet Doe\n"
    }
   ],
   "source": [
    "A = \"Hi my name is John Doe\"\n",
    "B = A.upper()\n",
    "print(A)\n",
    "print(B)\n",
    "C = A.replace(\"John\",\"Janet\") # mind the caps\n",
    "print(C)"
   ]
  },
  {
   "cell_type": "code",
   "execution_count": 27,
   "metadata": {},
   "outputs": [
    {
     "output_type": "stream",
     "name": "stdout",
     "text": "6\n1\n-1\n"
    }
   ],
   "source": [
    " #find\n",
    " print(A.find(\"name\")) #gives only 1 index position\n",
    " print(A.find(\"i\")) #stops at first instance\n",
    " print(A.find(\"joke\")) #gives -1 if it doesnt find the term"
   ]
  },
  {
   "cell_type": "markdown",
   "metadata": {},
   "source": [
    "# Module 2\n"
   ]
  },
  {
   "cell_type": "markdown",
   "metadata": {},
   "source": [
    "## Tuples \n",
    "* Tuples are ordered sequence\n",
    "* tuples are immutable.\n",
    "* can contain any data type simple or complex.\n",
    "* use `len` to find length of tuple.\n",
    "* use `sorted` to sort a tuple"
   ]
  },
  {
   "cell_type": "code",
   "execution_count": 4,
   "metadata": {},
   "outputs": [
    {
     "output_type": "execute_result",
     "data": {
      "text/plain": "(1, 2, 3, [1, 2, 3, 4])"
     },
     "metadata": {},
     "execution_count": 4
    }
   ],
   "source": [
    "l = [1,2,3,4] # list\n",
    "t1 = (1,2,3,l) #tupple\n",
    "t1"
   ]
  },
  {
   "cell_type": "code",
   "execution_count": 5,
   "metadata": {},
   "outputs": [
    {
     "output_type": "error",
     "ename": "TypeError",
     "evalue": "'tuple' object does not support item assignment",
     "traceback": [
      "\u001b[1;31m---------------------------------------------------------------------------\u001b[0m",
      "\u001b[1;31mTypeError\u001b[0m                                 Traceback (most recent call last)",
      "\u001b[1;32m<ipython-input-5-230d1fa551cc>\u001b[0m in \u001b[0;36m<module>\u001b[1;34m\u001b[0m\n\u001b[1;32m----> 1\u001b[1;33m \u001b[0mt1\u001b[0m\u001b[1;33m[\u001b[0m\u001b[1;36m2\u001b[0m\u001b[1;33m]\u001b[0m \u001b[1;33m=\u001b[0m \u001b[1;36m55\u001b[0m\u001b[1;33m\u001b[0m\u001b[1;33m\u001b[0m\u001b[0m\n\u001b[0m",
      "\u001b[1;31mTypeError\u001b[0m: 'tuple' object does not support item assignment"
     ]
    }
   ],
   "source": [
    "t1[2] = 55 # error"
   ]
  },
  {
   "cell_type": "code",
   "execution_count": 10,
   "metadata": {},
   "outputs": [
    {
     "output_type": "execute_result",
     "data": {
      "text/plain": "(1, 2, 3, [1, 2, 55, 4])"
     },
     "metadata": {},
     "execution_count": 10
    }
   ],
   "source": [
    "t1[3][2] = 55 # no error in updating list. part of list can be updated. t1[3] = 55 gives error.\n",
    "t1"
   ]
  },
  {
   "cell_type": "code",
   "execution_count": 11,
   "metadata": {},
   "outputs": [
    {
     "output_type": "execute_result",
     "data": {
      "text/plain": "4"
     },
     "metadata": {},
     "execution_count": 11
    }
   ],
   "source": [
    "len(t1)"
   ]
  },
  {
   "cell_type": "code",
   "execution_count": 16,
   "metadata": {},
   "outputs": [
    {
     "output_type": "stream",
     "name": "stdout",
     "text": "[0, 1, 2, 3, 5, 6, 7, 10, 44]\n"
    }
   ],
   "source": [
    "# sorting tuples\n",
    "rating = (5,6,7,3,1,2,10,44,0)\n",
    "ratingsortted = sorted(rating)\n",
    "print(ratingsortted)"
   ]
  },
  {
   "cell_type": "markdown",
   "metadata": {},
   "source": [
    "## Lists\n",
    "* Lists are also ordered sequence.\n",
    "* list represnted by `[]` and elements are seperated by commas.\n",
    "* Lists are mutable.\n",
    "* supports slicing and dicing"
   ]
  },
  {
   "cell_type": "code",
   "execution_count": 24,
   "metadata": {},
   "outputs": [
    {
     "output_type": "stream",
     "name": "stdout",
     "text": "[1, 2, 3, 4, 5, 6]\n"
    }
   ],
   "source": [
    "l1= [1,2,3]\n",
    "l2 = [4,5,6]\n",
    "print(l1+l2)\n",
    ""
   ]
  },
  {
   "cell_type": "markdown",
   "metadata": {},
   "source": [
    "`append` adds 1 element at the end. even if the element is complex data type as list.   \n",
    "`extend` concatinate elements at the end. similar to + operation"
   ]
  },
  {
   "cell_type": "code",
   "execution_count": 25,
   "metadata": {},
   "outputs": [
    {
     "output_type": "execute_result",
     "data": {
      "text/plain": "[1, 2, 3, 'p', 55]"
     },
     "metadata": {},
     "execution_count": 25
    }
   ],
   "source": [
    "l1.extend([\"p\",55]) # extend allows to add elements to the ened of the list\n",
    "l1"
   ]
  },
  {
   "cell_type": "code",
   "execution_count": 26,
   "metadata": {},
   "outputs": [
    {
     "output_type": "execute_result",
     "data": {
      "text/plain": "[1, 2, 3, 'p', 55, ['aa', 77]]"
     },
     "metadata": {},
     "execution_count": 26
    }
   ],
   "source": [
    "l1.append([\"aa\",77])\n",
    "l1"
   ]
  },
  {
   "cell_type": "markdown",
   "metadata": {},
   "source": [
    "Delete element from list   \n",
    "use `del`"
   ]
  },
  {
   "cell_type": "code",
   "execution_count": 27,
   "metadata": {},
   "outputs": [
    {
     "output_type": "stream",
     "name": "stdout",
     "text": "[1, 2, 3, 4]\n[1, 2, 4]\n"
    }
   ],
   "source": [
    "ld = [1,2,3,4]\n",
    "print(ld)\n",
    "del(ld[2])\n",
    "print(ld)"
   ]
  },
  {
   "cell_type": "markdown",
   "metadata": {},
   "source": [
    "convert `string` to list using `.split()`   \n",
    "used `.split(\",\")` to use , as the deliminater"
   ]
  },
  {
   "cell_type": "code",
   "execution_count": 29,
   "metadata": {},
   "outputs": [
    {
     "output_type": "execute_result",
     "data": {
      "text/plain": "['Hi', 'my', 'name', 'is', 'joe']"
     },
     "metadata": {},
     "execution_count": 29
    }
   ],
   "source": [
    "t = \"Hi my name is joe\"\n",
    "t.split()"
   ]
  },
  {
   "cell_type": "markdown",
   "metadata": {},
   "source": [
    "## Sets\n",
    "* sets are unordered unlike list/tuples. Don't record element position.\n",
    "* sets have unique elements(no dublicates).\n",
    "* create using `{}`."
   ]
  },
  {
   "cell_type": "code",
   "execution_count": 31,
   "metadata": {},
   "outputs": [
    {
     "output_type": "stream",
     "name": "stdout",
     "text": "{1, 2, 3, 5, 'ho', 'hi', 'Hi'}\n"
    }
   ],
   "source": [
    "# convert list to set using set()\n",
    "l = [1,2,3,3,5,5,5,\"Hi\",\"ho\",\"hi\",\"hi\"]\n",
    "s = set(l)\n",
    "print(s)"
   ]
  },
  {
   "cell_type": "markdown",
   "metadata": {},
   "source": [
    "## Set operations\n",
    "`add`   \n",
    "`remove`   \n",
    "`in` (to check if item is in set. It returns `True` if it exists.)   \n",
    "A `&` B (gives intersection of set A and B) can also use `A.intersection(B)`   \n",
    "`A.union(B)` (gives union)   \n",
    "`A.difference(B)` (gives only A. kind of like A-B(which also seems to work))   \n",
    "`A.issubset(B)` (check if A is subset of B )   \n",
    "`A.issuperset(B)` (check if A is superset of B)\n",
    "\n",
    " "
   ]
  },
  {
   "cell_type": "code",
   "execution_count": 48,
   "metadata": {},
   "outputs": [
    {
     "output_type": "stream",
     "name": "stdout",
     "text": "{2, 3, 5, 7, 11}\n{2, 3, 5, 7, 11}\n{3, 5, 7, 11}\nTrue\nFalse\n{3}\n{1, 2, 3, 5, 7, 11}\nFalse\n..................\n{11, 5, 7}\n"
    }
   ],
   "source": [
    "a = {2,3,5,7} # set of primes\n",
    "a.add(11)\n",
    "print(a)\n",
    "a.add(11) # doing again changes nothing\n",
    "print(a)\n",
    "a.remove(2) #remobve 2 from set\n",
    "print(a)\n",
    "\n",
    "print(7 in a)\n",
    "print(8 in a)\n",
    "\n",
    "b = {1,2,3}\n",
    "print(a&b)\n",
    "print(a.union(b))\n",
    "print(a.issubset(b))\n",
    "print(\"..................\")\n",
    "print(a-b)"
   ]
  },
  {
   "cell_type": "markdown",
   "metadata": {},
   "source": [
    "## Dictionaries\n",
    "* Dictionaries have keys and value\n",
    "* denoted by `{}`.\n",
    "* keys need to be immutable and unique.\n",
    "* first we enter key then value.\n",
    "* each key is seperated by a comma.\n",
    "* use .keys() to get keys of a dictionary \n",
    "* use .values() to get values of a dictionary.\n"
   ]
  },
  {
   "cell_type": "code",
   "execution_count": 45,
   "metadata": {},
   "outputs": [
    {
     "output_type": "stream",
     "name": "stdout",
     "text": "{1: 'a', 2: 'b', 3: 'tt', 4: 'hhh'}\ndict_keys([1, 2, 3, 4])\ndict_values(['a', 'b', 'tt', 'hhh'])\n"
    }
   ],
   "source": [
    "d = {1:\"a\",2:\"b\",3:\"tt\",4:\"hhh\"}\n",
    "print(d)\n",
    "print(d.keys())\n",
    "print(d.values())"
   ]
  },
  {
   "cell_type": "code",
   "execution_count": null,
   "metadata": {},
   "outputs": [],
   "source": []
  }
 ]
}